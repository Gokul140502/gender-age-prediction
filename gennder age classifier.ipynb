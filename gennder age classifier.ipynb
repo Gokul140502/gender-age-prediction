{
 "cells": [
  {
   "cell_type": "markdown",
   "id": "f3419b1f",
   "metadata": {},
   "source": [
    "# GENDER-AGE PREDICTION"
   ]
  },
  {
   "cell_type": "markdown",
   "id": "dec10f4c",
   "metadata": {},
   "source": [
    "### Importing libraries"
   ]
  },
  {
   "cell_type": "code",
   "execution_count": 2,
   "id": "687b468a",
   "metadata": {},
   "outputs": [],
   "source": [
    "import cv2\n",
    "import numpy as np"
   ]
  },
  {
   "cell_type": "markdown",
   "id": "b8a16072",
   "metadata": {},
   "source": [
    "### Load the pre-trained face detection, gender classification, and age classification models"
   ]
  },
  {
   "cell_type": "code",
   "execution_count": 3,
   "id": "0efc707a",
   "metadata": {},
   "outputs": [],
   "source": [
    "face_model = cv2.dnn.readNetFromTensorflow('models/opencv_face_detector_uint8.pb', 'models/opencv_face_detector.pbtxt')\n",
    "gender_model = cv2.dnn.readNetFromCaffe('models/gender_deploy.prototxt', 'models/gender_net.caffemodel')\n",
    "age_model = cv2.dnn.readNetFromCaffe('models/age_deploy.prototxt', 'models/age_net.caffemodel')"
   ]
  },
  {
   "cell_type": "markdown",
   "id": "1740371e",
   "metadata": {},
   "source": [
    "### Define age ranges"
   ]
  },
  {
   "cell_type": "code",
   "execution_count": 4,
   "id": "823b177a",
   "metadata": {},
   "outputs": [],
   "source": [
    "age_ranges = [\"0-2\", \"4-6\", \"8-12\", \"15-20\", \"25-32\", \"38-43\", \"48-53\", \"60-100\"]"
   ]
  },
  {
   "cell_type": "markdown",
   "id": "04e30e4f",
   "metadata": {},
   "source": [
    "### Function to detect faces in an image"
   ]
  },
  {
   "cell_type": "code",
   "execution_count": 8,
   "id": "ab945820",
   "metadata": {},
   "outputs": [],
   "source": [
    "def detect_faces(image):\n",
    "    # Convert the image to grayscale\n",
    "    gray = cv2.cvtColor(image, cv2.COLOR_BGR2GRAY)\n",
    "    \n",
    "    # Detect faces in the image\n",
    "    blob = cv2.dnn.blobFromImage(image, 1.0, (300, 300), (104.0, 177.0, 123.0))\n",
    "    face_model.setInput(blob)\n",
    "    detections = face_model.forward()\n",
    "    \n",
    "    # Extract bounding box coordinates for each detected face\n",
    "    face_boxes = []\n",
    "    for i in range(detections.shape[2]):\n",
    "        confidence = detections[0, 0, i, 2]\n",
    "        if confidence > 0.5:  # Filter out weak detections\n",
    "            box = detections[0, 0, i, 3:7] * np.array([image.shape[1], image.shape[0], image.shape[1], image.shape[0]])\n",
    "            (startX, startY, endX, endY) = box.astype(\"int\")\n",
    "            face_boxes.append((startX, startY, endX, endY))\n",
    "    \n",
    "    return face_boxes"
   ]
  },
  {
   "cell_type": "markdown",
   "id": "7e42bdff",
   "metadata": {},
   "source": [
    "### Function to classify gender for a given face ROI"
   ]
  },
  {
   "cell_type": "code",
   "execution_count": 9,
   "id": "88f0f47c",
   "metadata": {},
   "outputs": [],
   "source": [
    "def classify_gender(image, face_box):\n",
    "    # Define input shape for gender classification model\n",
    "    gender_input_shape = (227, 227)\n",
    "    \n",
    "    # Resize the input image to match the required input shape of the gender classification model\n",
    "    resized_image = cv2.resize(image, (gender_input_shape[1], gender_input_shape[0]))\n",
    "    \n",
    "    # Preprocess the resized image for gender classification\n",
    "    gender_input = cv2.dnn.blobFromImage(resized_image, 1.0, (gender_input_shape[1], gender_input_shape[0]), (104.0, 177.0, 123.0))\n",
    "    \n",
    "    # Perform gender classification\n",
    "    gender_model.setInput(gender_input)\n",
    "    gender_preds = gender_model.forward()\n",
    "    \n",
    "    # Print the shape and contents of gender_preds for troubleshooting\n",
    "    print(\"Shape of gender_preds:\", gender_preds.shape)\n",
    "    print(\"Contents of gender_preds:\", gender_preds)\n",
    "    \n",
    "    # Check if gender_preds has the expected shape\n",
    "    if gender_preds.shape[0] != 1 or gender_preds.shape[1] != 1:\n",
    "        print(\"Invalid shape of gender_preds:\", gender_preds.shape)\n",
    "        return \"Unknown\"\n",
    "    \n",
    "    gender = \"Male\" if gender_preds[0][0][0] < 0.5 else \"Female\"\n",
    "    \n",
    "    return gender"
   ]
  },
  {
   "cell_type": "code",
   "execution_count": 10,
   "id": "9aa2d418",
   "metadata": {},
   "outputs": [],
   "source": [
    "def classify_age(image, face_box):\n",
    "    # Define input shape for age classification model\n",
    "    age_input_shape = (227, 227)\n",
    "\n",
    "    # Extract the face ROI (Region of Interest) from the image\n",
    "    (startX, startY, endX, endY) = face_box\n",
    "    face_roi = image[startY:endY, startX:endX]\n",
    "\n",
    "    # Resize the face ROI to match the required input shape of the age classification model\n",
    "    face_input = cv2.resize(face_roi, (age_input_shape[1], age_input_shape[0]))\n",
    "\n",
    "    # Preprocess the face input for age classification\n",
    "    face_input = cv2.cvtColor(face_input, cv2.COLOR_BGR2RGB)\n",
    "    face_input = face_input.astype(\"float\") / 255.0\n",
    "    face_input = np.transpose(face_input, (2, 0, 1))  # Transpose to channel-first format\n",
    "\n",
    "    try:\n",
    "        # Perform age classification\n",
    "        age_model.setInput(face_input)\n",
    "        age_preds = age_model.forward()\n",
    "\n",
    "        # Check if age_preds has the expected shape\n",
    "        if age_preds.shape[0] != 1 or age_preds.shape[1] != len(age_ranges):\n",
    "            print(\"Invalid shape of age_preds:\", age_preds.shape)\n",
    "            return \"Unknown\"\n",
    "        age = age_ranges[np.argmax(age_preds)]\n",
    "    except Exception as e:\n",
    "        print(\"Error during age classification:\", str(e))\n",
    "        age = \"Unknown\"\n",
    "\n",
    "    return age"
   ]
  },
  {
   "cell_type": "markdown",
   "id": "201b6538",
   "metadata": {},
   "source": [
    "###  Function to visualize predictions on the image"
   ]
  },
  {
   "cell_type": "code",
   "execution_count": 11,
   "id": "418ba704",
   "metadata": {},
   "outputs": [],
   "source": [
    "def visualize_predictions(image, faces):\n",
    "    for (startX, startY, endX, endY) in faces:\n",
    "        cv2.rectangle(image, (startX, startY), (endX, endY), (0, 255, 0), 2)\n",
    "\n",
    "        # Classify gender and age for the current face\n",
    "        gender = classify_gender(image, (startX, startY, endX, endY))\n",
    "        age = classify_age(image, (startX, startY, endX, endY))\n",
    "        \n",
    "        print(\"Gender:\", gender)\n",
    "        print(\"Age:\", age)\n",
    "\n",
    "        # Draw text indicating the predicted gender and age on the image\n",
    "        text = f\"{gender}, {age}\"\n",
    "        cv2.putText(image, text, (startX, startY - 10), cv2.FONT_HERSHEY_SIMPLEX, 0.9, (0, 255, 0), 2)\n",
    "    \n",
    "    # Display the image with predicted gender and age\n",
    "    cv2.imshow(\"Gender and Age Detection\", image)\n",
    "    cv2.waitKey(0)\n",
    "    cv2.destroyAllWindows()"
   ]
  },
  {
   "cell_type": "markdown",
   "id": "ae0bc006",
   "metadata": {},
   "source": [
    "###  Main function"
   ]
  },
  {
   "cell_type": "code",
   "execution_count": null,
   "id": "bf20ffa6",
   "metadata": {},
   "outputs": [],
   "source": []
  }
 ],
 "metadata": {
  "kernelspec": {
   "display_name": "Python 3 (ipykernel)",
   "language": "python",
   "name": "python3"
  },
  "language_info": {
   "codemirror_mode": {
    "name": "ipython",
    "version": 3
   },
   "file_extension": ".py",
   "mimetype": "text/x-python",
   "name": "python",
   "nbconvert_exporter": "python",
   "pygments_lexer": "ipython3",
   "version": "3.9.12"
  }
 },
 "nbformat": 4,
 "nbformat_minor": 5
}
